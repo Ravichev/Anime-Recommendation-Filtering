{
 "cells": [
  {
   "cell_type": "code",
   "execution_count": 1,
   "id": "ab62b0ba",
   "metadata": {
    "execution": {
     "iopub.execute_input": "2025-04-05T22:03:43.137768Z",
     "iopub.status.busy": "2025-04-05T22:03:43.137341Z",
     "iopub.status.idle": "2025-04-05T22:03:43.144484Z",
     "shell.execute_reply": "2025-04-05T22:03:43.143642Z"
    },
    "id": "2EHc2O4PknsO",
    "outputId": "bbffbc65-222a-42a2-8ff6-0ed95137b175",
    "papermill": {
     "duration": 0.017706,
     "end_time": "2025-04-05T22:03:43.146083",
     "exception": false,
     "start_time": "2025-04-05T22:03:43.128377",
     "status": "completed"
    },
    "tags": []
   },
   "outputs": [],
   "source": [
    "#pip install scikit-surprise"
   ]
  },
  {
   "cell_type": "code",
   "execution_count": 2,
   "id": "ce5c25d8",
   "metadata": {
    "execution": {
     "iopub.execute_input": "2025-04-05T22:03:43.160052Z",
     "iopub.status.busy": "2025-04-05T22:03:43.159695Z",
     "iopub.status.idle": "2025-04-05T22:03:43.163500Z",
     "shell.execute_reply": "2025-04-05T22:03:43.162606Z"
    },
    "id": "ln6jVT51kqmX",
    "outputId": "d24362d3-3eb2-42f6-aead-37ffc10140e4",
    "papermill": {
     "duration": 0.012577,
     "end_time": "2025-04-05T22:03:43.165160",
     "exception": false,
     "start_time": "2025-04-05T22:03:43.152583",
     "status": "completed"
    },
    "tags": []
   },
   "outputs": [],
   "source": [
    "#pip install --upgrade --force-reinstall numpy==1.26.4"
   ]
  },
  {
   "cell_type": "code",
   "execution_count": 3,
   "id": "051058ae",
   "metadata": {
    "execution": {
     "iopub.execute_input": "2025-04-05T22:03:43.179383Z",
     "iopub.status.busy": "2025-04-05T22:03:43.179053Z",
     "iopub.status.idle": "2025-04-05T22:03:46.557382Z",
     "shell.execute_reply": "2025-04-05T22:03:46.556343Z"
    },
    "id": "1VdlWMq5ZBqA",
    "papermill": {
     "duration": 3.38789,
     "end_time": "2025-04-05T22:03:46.559370",
     "exception": false,
     "start_time": "2025-04-05T22:03:43.171480",
     "status": "completed"
    },
    "tags": []
   },
   "outputs": [],
   "source": [
    "import warnings\n",
    "warnings.filterwarnings(\"ignore\")\n",
    "\n",
    "import pandas as pd\n",
    "import numpy as np\n",
    "import matplotlib.pyplot as plt\n",
    "import seaborn as sns\n",
    "from sklearn.feature_extraction.text import TfidfVectorizer\n",
    "from sklearn.metrics.pairwise import linear_kernel\n",
    "\n",
    "import surprise\n",
    "from surprise import Dataset, Reader\n",
    "from surprise.model_selection import train_test_split\n",
    "from surprise import KNNBasic\n",
    "from surprise import accuracy\n",
    "\n",
    "path_to_df='/kaggle/input/anime-recommendations-database/anime.csv'\n",
    "path_to_rating_df='/kaggle/input/anime-recommendations-database/rating.csv'"
   ]
  },
  {
   "cell_type": "code",
   "execution_count": 4,
   "id": "b4d30065",
   "metadata": {
    "execution": {
     "iopub.execute_input": "2025-04-05T22:03:46.574315Z",
     "iopub.status.busy": "2025-04-05T22:03:46.573838Z",
     "iopub.status.idle": "2025-04-05T22:03:49.909736Z",
     "shell.execute_reply": "2025-04-05T22:03:49.908148Z"
    },
    "id": "GxdSJ2aD9tzp",
    "papermill": {
     "duration": 3.345303,
     "end_time": "2025-04-05T22:03:49.911657",
     "exception": false,
     "start_time": "2025-04-05T22:03:46.566354",
     "status": "completed"
    },
    "tags": []
   },
   "outputs": [],
   "source": [
    "df = pd.read_csv(path_to_df)\n",
    "rating_df = pd.read_csv(path_to_rating_df)"
   ]
  },
  {
   "cell_type": "code",
   "execution_count": 5,
   "id": "4a530cc1",
   "metadata": {
    "execution": {
     "iopub.execute_input": "2025-04-05T22:03:49.925966Z",
     "iopub.status.busy": "2025-04-05T22:03:49.925622Z",
     "iopub.status.idle": "2025-04-05T22:03:49.961049Z",
     "shell.execute_reply": "2025-04-05T22:03:49.960023Z"
    },
    "id": "3fGKoYqh-cU4",
    "outputId": "1aa79dba-ddca-4183-d4c3-4815b6435a97",
    "papermill": {
     "duration": 0.044575,
     "end_time": "2025-04-05T22:03:49.962910",
     "exception": false,
     "start_time": "2025-04-05T22:03:49.918335",
     "status": "completed"
    },
    "tags": []
   },
   "outputs": [
    {
     "data": {
      "text/html": [
       "<div>\n",
       "<style scoped>\n",
       "    .dataframe tbody tr th:only-of-type {\n",
       "        vertical-align: middle;\n",
       "    }\n",
       "\n",
       "    .dataframe tbody tr th {\n",
       "        vertical-align: top;\n",
       "    }\n",
       "\n",
       "    .dataframe thead th {\n",
       "        text-align: right;\n",
       "    }\n",
       "</style>\n",
       "<table border=\"1\" class=\"dataframe\">\n",
       "  <thead>\n",
       "    <tr style=\"text-align: right;\">\n",
       "      <th></th>\n",
       "      <th>anime_id</th>\n",
       "      <th>name</th>\n",
       "      <th>genre</th>\n",
       "      <th>type</th>\n",
       "      <th>episodes</th>\n",
       "      <th>rating</th>\n",
       "      <th>members</th>\n",
       "    </tr>\n",
       "  </thead>\n",
       "  <tbody>\n",
       "    <tr>\n",
       "      <th>0</th>\n",
       "      <td>32281</td>\n",
       "      <td>Kimi no Na wa.</td>\n",
       "      <td>Drama, Romance, School, Supernatural</td>\n",
       "      <td>Movie</td>\n",
       "      <td>1</td>\n",
       "      <td>9.37</td>\n",
       "      <td>200630</td>\n",
       "    </tr>\n",
       "    <tr>\n",
       "      <th>1</th>\n",
       "      <td>5114</td>\n",
       "      <td>Fullmetal Alchemist: Brotherhood</td>\n",
       "      <td>Action, Adventure, Drama, Fantasy, Magic, Mili...</td>\n",
       "      <td>TV</td>\n",
       "      <td>64</td>\n",
       "      <td>9.26</td>\n",
       "      <td>793665</td>\n",
       "    </tr>\n",
       "    <tr>\n",
       "      <th>2</th>\n",
       "      <td>28977</td>\n",
       "      <td>Gintama°</td>\n",
       "      <td>Action, Comedy, Historical, Parody, Samurai, S...</td>\n",
       "      <td>TV</td>\n",
       "      <td>51</td>\n",
       "      <td>9.25</td>\n",
       "      <td>114262</td>\n",
       "    </tr>\n",
       "    <tr>\n",
       "      <th>3</th>\n",
       "      <td>9253</td>\n",
       "      <td>Steins;Gate</td>\n",
       "      <td>Sci-Fi, Thriller</td>\n",
       "      <td>TV</td>\n",
       "      <td>24</td>\n",
       "      <td>9.17</td>\n",
       "      <td>673572</td>\n",
       "    </tr>\n",
       "    <tr>\n",
       "      <th>4</th>\n",
       "      <td>9969</td>\n",
       "      <td>Gintama&amp;#039;</td>\n",
       "      <td>Action, Comedy, Historical, Parody, Samurai, S...</td>\n",
       "      <td>TV</td>\n",
       "      <td>51</td>\n",
       "      <td>9.16</td>\n",
       "      <td>151266</td>\n",
       "    </tr>\n",
       "    <tr>\n",
       "      <th>...</th>\n",
       "      <td>...</td>\n",
       "      <td>...</td>\n",
       "      <td>...</td>\n",
       "      <td>...</td>\n",
       "      <td>...</td>\n",
       "      <td>...</td>\n",
       "      <td>...</td>\n",
       "    </tr>\n",
       "    <tr>\n",
       "      <th>12289</th>\n",
       "      <td>9316</td>\n",
       "      <td>Toushindai My Lover: Minami tai Mecha-Minami</td>\n",
       "      <td>Hentai</td>\n",
       "      <td>OVA</td>\n",
       "      <td>1</td>\n",
       "      <td>4.15</td>\n",
       "      <td>211</td>\n",
       "    </tr>\n",
       "    <tr>\n",
       "      <th>12290</th>\n",
       "      <td>5543</td>\n",
       "      <td>Under World</td>\n",
       "      <td>Hentai</td>\n",
       "      <td>OVA</td>\n",
       "      <td>1</td>\n",
       "      <td>4.28</td>\n",
       "      <td>183</td>\n",
       "    </tr>\n",
       "    <tr>\n",
       "      <th>12291</th>\n",
       "      <td>5621</td>\n",
       "      <td>Violence Gekiga David no Hoshi</td>\n",
       "      <td>Hentai</td>\n",
       "      <td>OVA</td>\n",
       "      <td>4</td>\n",
       "      <td>4.88</td>\n",
       "      <td>219</td>\n",
       "    </tr>\n",
       "    <tr>\n",
       "      <th>12292</th>\n",
       "      <td>6133</td>\n",
       "      <td>Violence Gekiga Shin David no Hoshi: Inma Dens...</td>\n",
       "      <td>Hentai</td>\n",
       "      <td>OVA</td>\n",
       "      <td>1</td>\n",
       "      <td>4.98</td>\n",
       "      <td>175</td>\n",
       "    </tr>\n",
       "    <tr>\n",
       "      <th>12293</th>\n",
       "      <td>26081</td>\n",
       "      <td>Yasuji no Pornorama: Yacchimae!!</td>\n",
       "      <td>Hentai</td>\n",
       "      <td>Movie</td>\n",
       "      <td>1</td>\n",
       "      <td>5.46</td>\n",
       "      <td>142</td>\n",
       "    </tr>\n",
       "  </tbody>\n",
       "</table>\n",
       "<p>12294 rows × 7 columns</p>\n",
       "</div>"
      ],
      "text/plain": [
       "       anime_id                                               name  \\\n",
       "0         32281                                     Kimi no Na wa.   \n",
       "1          5114                   Fullmetal Alchemist: Brotherhood   \n",
       "2         28977                                           Gintama°   \n",
       "3          9253                                        Steins;Gate   \n",
       "4          9969                                      Gintama&#039;   \n",
       "...         ...                                                ...   \n",
       "12289      9316       Toushindai My Lover: Minami tai Mecha-Minami   \n",
       "12290      5543                                        Under World   \n",
       "12291      5621                     Violence Gekiga David no Hoshi   \n",
       "12292      6133  Violence Gekiga Shin David no Hoshi: Inma Dens...   \n",
       "12293     26081                   Yasuji no Pornorama: Yacchimae!!   \n",
       "\n",
       "                                                   genre   type episodes  \\\n",
       "0                   Drama, Romance, School, Supernatural  Movie        1   \n",
       "1      Action, Adventure, Drama, Fantasy, Magic, Mili...     TV       64   \n",
       "2      Action, Comedy, Historical, Parody, Samurai, S...     TV       51   \n",
       "3                                       Sci-Fi, Thriller     TV       24   \n",
       "4      Action, Comedy, Historical, Parody, Samurai, S...     TV       51   \n",
       "...                                                  ...    ...      ...   \n",
       "12289                                             Hentai    OVA        1   \n",
       "12290                                             Hentai    OVA        1   \n",
       "12291                                             Hentai    OVA        4   \n",
       "12292                                             Hentai    OVA        1   \n",
       "12293                                             Hentai  Movie        1   \n",
       "\n",
       "       rating  members  \n",
       "0        9.37   200630  \n",
       "1        9.26   793665  \n",
       "2        9.25   114262  \n",
       "3        9.17   673572  \n",
       "4        9.16   151266  \n",
       "...       ...      ...  \n",
       "12289    4.15      211  \n",
       "12290    4.28      183  \n",
       "12291    4.88      219  \n",
       "12292    4.98      175  \n",
       "12293    5.46      142  \n",
       "\n",
       "[12294 rows x 7 columns]"
      ]
     },
     "execution_count": 5,
     "metadata": {},
     "output_type": "execute_result"
    }
   ],
   "source": [
    "df"
   ]
  },
  {
   "cell_type": "code",
   "execution_count": 6,
   "id": "565e2b1d",
   "metadata": {
    "execution": {
     "iopub.execute_input": "2025-04-05T22:03:49.977452Z",
     "iopub.status.busy": "2025-04-05T22:03:49.977119Z",
     "iopub.status.idle": "2025-04-05T22:03:49.988048Z",
     "shell.execute_reply": "2025-04-05T22:03:49.986759Z"
    },
    "id": "MrT7ZrGCk561",
    "outputId": "175c1b30-5ebd-405a-bbc0-a8f61ec370d5",
    "papermill": {
     "duration": 0.020177,
     "end_time": "2025-04-05T22:03:49.989933",
     "exception": false,
     "start_time": "2025-04-05T22:03:49.969756",
     "status": "completed"
    },
    "tags": []
   },
   "outputs": [
    {
     "data": {
      "text/html": [
       "<div>\n",
       "<style scoped>\n",
       "    .dataframe tbody tr th:only-of-type {\n",
       "        vertical-align: middle;\n",
       "    }\n",
       "\n",
       "    .dataframe tbody tr th {\n",
       "        vertical-align: top;\n",
       "    }\n",
       "\n",
       "    .dataframe thead th {\n",
       "        text-align: right;\n",
       "    }\n",
       "</style>\n",
       "<table border=\"1\" class=\"dataframe\">\n",
       "  <thead>\n",
       "    <tr style=\"text-align: right;\">\n",
       "      <th></th>\n",
       "      <th>user_id</th>\n",
       "      <th>anime_id</th>\n",
       "      <th>rating</th>\n",
       "    </tr>\n",
       "  </thead>\n",
       "  <tbody>\n",
       "    <tr>\n",
       "      <th>0</th>\n",
       "      <td>1</td>\n",
       "      <td>20</td>\n",
       "      <td>-1</td>\n",
       "    </tr>\n",
       "    <tr>\n",
       "      <th>1</th>\n",
       "      <td>1</td>\n",
       "      <td>24</td>\n",
       "      <td>-1</td>\n",
       "    </tr>\n",
       "    <tr>\n",
       "      <th>2</th>\n",
       "      <td>1</td>\n",
       "      <td>79</td>\n",
       "      <td>-1</td>\n",
       "    </tr>\n",
       "    <tr>\n",
       "      <th>3</th>\n",
       "      <td>1</td>\n",
       "      <td>226</td>\n",
       "      <td>-1</td>\n",
       "    </tr>\n",
       "    <tr>\n",
       "      <th>4</th>\n",
       "      <td>1</td>\n",
       "      <td>241</td>\n",
       "      <td>-1</td>\n",
       "    </tr>\n",
       "    <tr>\n",
       "      <th>...</th>\n",
       "      <td>...</td>\n",
       "      <td>...</td>\n",
       "      <td>...</td>\n",
       "    </tr>\n",
       "    <tr>\n",
       "      <th>7813732</th>\n",
       "      <td>73515</td>\n",
       "      <td>16512</td>\n",
       "      <td>7</td>\n",
       "    </tr>\n",
       "    <tr>\n",
       "      <th>7813733</th>\n",
       "      <td>73515</td>\n",
       "      <td>17187</td>\n",
       "      <td>9</td>\n",
       "    </tr>\n",
       "    <tr>\n",
       "      <th>7813734</th>\n",
       "      <td>73515</td>\n",
       "      <td>22145</td>\n",
       "      <td>10</td>\n",
       "    </tr>\n",
       "    <tr>\n",
       "      <th>7813735</th>\n",
       "      <td>73516</td>\n",
       "      <td>790</td>\n",
       "      <td>9</td>\n",
       "    </tr>\n",
       "    <tr>\n",
       "      <th>7813736</th>\n",
       "      <td>73516</td>\n",
       "      <td>8074</td>\n",
       "      <td>9</td>\n",
       "    </tr>\n",
       "  </tbody>\n",
       "</table>\n",
       "<p>7813737 rows × 3 columns</p>\n",
       "</div>"
      ],
      "text/plain": [
       "         user_id  anime_id  rating\n",
       "0              1        20      -1\n",
       "1              1        24      -1\n",
       "2              1        79      -1\n",
       "3              1       226      -1\n",
       "4              1       241      -1\n",
       "...          ...       ...     ...\n",
       "7813732    73515     16512       7\n",
       "7813733    73515     17187       9\n",
       "7813734    73515     22145      10\n",
       "7813735    73516       790       9\n",
       "7813736    73516      8074       9\n",
       "\n",
       "[7813737 rows x 3 columns]"
      ]
     },
     "execution_count": 6,
     "metadata": {},
     "output_type": "execute_result"
    }
   ],
   "source": [
    "rating_df"
   ]
  },
  {
   "cell_type": "code",
   "execution_count": 7,
   "id": "f4d0c4a3",
   "metadata": {
    "execution": {
     "iopub.execute_input": "2025-04-05T22:03:50.007338Z",
     "iopub.status.busy": "2025-04-05T22:03:50.007000Z",
     "iopub.status.idle": "2025-04-05T22:03:50.045168Z",
     "shell.execute_reply": "2025-04-05T22:03:50.043620Z"
    },
    "id": "QpIWp058l2Nv",
    "outputId": "15779a81-38d1-4e24-cb70-eed69fd52007",
    "papermill": {
     "duration": 0.049568,
     "end_time": "2025-04-05T22:03:50.047175",
     "exception": false,
     "start_time": "2025-04-05T22:03:49.997607",
     "status": "completed"
    },
    "tags": []
   },
   "outputs": [
    {
     "name": "stdout",
     "output_type": "stream",
     "text": [
      "<class 'pandas.core.frame.DataFrame'>\n",
      "RangeIndex: 12294 entries, 0 to 12293\n",
      "Data columns (total 7 columns):\n",
      " #   Column    Non-Null Count  Dtype  \n",
      "---  ------    --------------  -----  \n",
      " 0   anime_id  12294 non-null  int64  \n",
      " 1   name      12294 non-null  object \n",
      " 2   genre     12232 non-null  object \n",
      " 3   type      12269 non-null  object \n",
      " 4   episodes  12294 non-null  object \n",
      " 5   rating    12064 non-null  float64\n",
      " 6   members   12294 non-null  int64  \n",
      "dtypes: float64(1), int64(2), object(4)\n",
      "memory usage: 672.5+ KB\n",
      "<class 'pandas.core.frame.DataFrame'>\n",
      "RangeIndex: 7813737 entries, 0 to 7813736\n",
      "Data columns (total 3 columns):\n",
      " #   Column    Dtype\n",
      "---  ------    -----\n",
      " 0   user_id   int64\n",
      " 1   anime_id  int64\n",
      " 2   rating    int64\n",
      "dtypes: int64(3)\n",
      "memory usage: 178.8 MB\n"
     ]
    }
   ],
   "source": [
    "df.info()\n",
    "rating_df.info()"
   ]
  },
  {
   "cell_type": "markdown",
   "id": "73fed9ff",
   "metadata": {
    "id": "lLm7xAvjuWeo",
    "papermill": {
     "duration": 0.006732,
     "end_time": "2025-04-05T22:03:50.061140",
     "exception": false,
     "start_time": "2025-04-05T22:03:50.054408",
     "status": "completed"
    },
    "tags": []
   },
   "source": [
    "#Data prepare"
   ]
  },
  {
   "cell_type": "code",
   "execution_count": 8,
   "id": "6b2d1e58",
   "metadata": {
    "execution": {
     "iopub.execute_input": "2025-04-05T22:03:50.076900Z",
     "iopub.status.busy": "2025-04-05T22:03:50.076449Z",
     "iopub.status.idle": "2025-04-05T22:03:50.083714Z",
     "shell.execute_reply": "2025-04-05T22:03:50.082613Z"
    },
    "id": "E9gzZ5oX2DNb",
    "papermill": {
     "duration": 0.017214,
     "end_time": "2025-04-05T22:03:50.085563",
     "exception": false,
     "start_time": "2025-04-05T22:03:50.068349",
     "status": "completed"
    },
    "tags": []
   },
   "outputs": [],
   "source": [
    "df=df[~df['genre'].isna()]"
   ]
  },
  {
   "cell_type": "code",
   "execution_count": 9,
   "id": "6c0378bb",
   "metadata": {
    "execution": {
     "iopub.execute_input": "2025-04-05T22:03:50.100901Z",
     "iopub.status.busy": "2025-04-05T22:03:50.100446Z",
     "iopub.status.idle": "2025-04-05T22:03:50.108328Z",
     "shell.execute_reply": "2025-04-05T22:03:50.107139Z"
    },
    "id": "dof9rVAN3VpA",
    "papermill": {
     "duration": 0.017458,
     "end_time": "2025-04-05T22:03:50.110183",
     "exception": false,
     "start_time": "2025-04-05T22:03:50.092725",
     "status": "completed"
    },
    "tags": []
   },
   "outputs": [],
   "source": [
    "df['type'].fillna(df['type'].mode()[0], inplace=True)"
   ]
  },
  {
   "cell_type": "code",
   "execution_count": 10,
   "id": "35d4faad",
   "metadata": {
    "execution": {
     "iopub.execute_input": "2025-04-05T22:03:50.125692Z",
     "iopub.status.busy": "2025-04-05T22:03:50.125254Z",
     "iopub.status.idle": "2025-04-05T22:03:50.134452Z",
     "shell.execute_reply": "2025-04-05T22:03:50.133627Z"
    },
    "id": "IE3y1VdxRvSA",
    "papermill": {
     "duration": 0.019222,
     "end_time": "2025-04-05T22:03:50.136580",
     "exception": false,
     "start_time": "2025-04-05T22:03:50.117358",
     "status": "completed"
    },
    "tags": []
   },
   "outputs": [],
   "source": [
    "df = df.drop_duplicates(subset=['name']).reset_index(drop=True)"
   ]
  },
  {
   "cell_type": "code",
   "execution_count": 11,
   "id": "04a858cf",
   "metadata": {
    "execution": {
     "iopub.execute_input": "2025-04-05T22:03:50.152260Z",
     "iopub.status.busy": "2025-04-05T22:03:50.151920Z",
     "iopub.status.idle": "2025-04-05T22:03:50.499034Z",
     "shell.execute_reply": "2025-04-05T22:03:50.497974Z"
    },
    "id": "Br1EMyrcy0Fl",
    "papermill": {
     "duration": 0.357172,
     "end_time": "2025-04-05T22:03:50.501011",
     "exception": false,
     "start_time": "2025-04-05T22:03:50.143839",
     "status": "completed"
    },
    "tags": []
   },
   "outputs": [],
   "source": [
    "rating_df = rating_df[rating_df['anime_id'].isin(df['anime_id'])].reset_index(drop=True)"
   ]
  },
  {
   "cell_type": "markdown",
   "id": "7b8e776d",
   "metadata": {
    "id": "03SO0tIdnS9G",
    "papermill": {
     "duration": 0.006794,
     "end_time": "2025-04-05T22:03:50.515157",
     "exception": false,
     "start_time": "2025-04-05T22:03:50.508363",
     "status": "completed"
    },
    "tags": []
   },
   "source": [
    "I dont use rating or members, so let`s leave them untouched"
   ]
  },
  {
   "cell_type": "code",
   "execution_count": 12,
   "id": "8afab353",
   "metadata": {
    "execution": {
     "iopub.execute_input": "2025-04-05T22:03:50.530653Z",
     "iopub.status.busy": "2025-04-05T22:03:50.530224Z",
     "iopub.status.idle": "2025-04-05T22:03:50.543714Z",
     "shell.execute_reply": "2025-04-05T22:03:50.542411Z"
    },
    "id": "N_qEyj3r2POf",
    "outputId": "3b5dbde0-a34e-497d-f9c0-eb159f655ba3",
    "papermill": {
     "duration": 0.023114,
     "end_time": "2025-04-05T22:03:50.545496",
     "exception": false,
     "start_time": "2025-04-05T22:03:50.522382",
     "status": "completed"
    },
    "tags": []
   },
   "outputs": [
    {
     "name": "stdout",
     "output_type": "stream",
     "text": [
      "<class 'pandas.core.frame.DataFrame'>\n",
      "RangeIndex: 12230 entries, 0 to 12229\n",
      "Data columns (total 7 columns):\n",
      " #   Column    Non-Null Count  Dtype  \n",
      "---  ------    --------------  -----  \n",
      " 0   anime_id  12230 non-null  int64  \n",
      " 1   name      12230 non-null  object \n",
      " 2   genre     12230 non-null  object \n",
      " 3   type      12230 non-null  object \n",
      " 4   episodes  12230 non-null  object \n",
      " 5   rating    12015 non-null  float64\n",
      " 6   members   12230 non-null  int64  \n",
      "dtypes: float64(1), int64(2), object(4)\n",
      "memory usage: 669.0+ KB\n"
     ]
    }
   ],
   "source": [
    "df.info()"
   ]
  },
  {
   "cell_type": "markdown",
   "id": "12a9bb63",
   "metadata": {
    "id": "kAwkQvLFlBJH",
    "papermill": {
     "duration": 0.006908,
     "end_time": "2025-04-05T22:03:50.559960",
     "exception": false,
     "start_time": "2025-04-05T22:03:50.553052",
     "status": "completed"
    },
    "tags": []
   },
   "source": [
    "-1 rating rows have no info for us, but we can use them for validation"
   ]
  },
  {
   "cell_type": "code",
   "execution_count": 13,
   "id": "8ab8b6c4",
   "metadata": {
    "execution": {
     "iopub.execute_input": "2025-04-05T22:03:50.576222Z",
     "iopub.status.busy": "2025-04-05T22:03:50.575857Z",
     "iopub.status.idle": "2025-04-05T22:03:50.810672Z",
     "shell.execute_reply": "2025-04-05T22:03:50.809425Z"
    },
    "id": "582zfX-XvdBB",
    "papermill": {
     "duration": 0.245872,
     "end_time": "2025-04-05T22:03:50.812825",
     "exception": false,
     "start_time": "2025-04-05T22:03:50.566953",
     "status": "completed"
    },
    "tags": []
   },
   "outputs": [],
   "source": [
    "valid_data = rating_df[rating_df['rating'] == -1][['user_id', 'anime_id']]\n",
    "rating_df = rating_df[rating_df[\"rating\"] != -1]"
   ]
  },
  {
   "cell_type": "markdown",
   "id": "35430d1e",
   "metadata": {
    "id": "itXJ8ESSoJhh",
    "papermill": {
     "duration": 0.006939,
     "end_time": "2025-04-05T22:03:50.827245",
     "exception": false,
     "start_time": "2025-04-05T22:03:50.820306",
     "status": "completed"
    },
    "tags": []
   },
   "source": [
    "Removing all users, which gave the same rate to all what thay watched"
   ]
  },
  {
   "cell_type": "code",
   "execution_count": 14,
   "id": "266e02cd",
   "metadata": {
    "execution": {
     "iopub.execute_input": "2025-04-05T22:03:50.843000Z",
     "iopub.status.busy": "2025-04-05T22:03:50.842652Z",
     "iopub.status.idle": "2025-04-05T22:03:51.257659Z",
     "shell.execute_reply": "2025-04-05T22:03:51.256649Z"
    },
    "id": "TSxmlxuuvDw0",
    "outputId": "7a0a3ec2-81d1-4856-e03f-0f7e7c55da1d",
    "papermill": {
     "duration": 0.425009,
     "end_time": "2025-04-05T22:03:51.259366",
     "exception": false,
     "start_time": "2025-04-05T22:03:50.834357",
     "status": "completed"
    },
    "tags": []
   },
   "outputs": [
    {
     "name": "stdout",
     "output_type": "stream",
     "text": [
      "Deleted 5476 users\n"
     ]
    }
   ],
   "source": [
    "user_rating_stats = rating_df.groupby(\"user_id\")[\"rating\"].agg([\"min\", \"max\"])\n",
    "users_to_remove = user_rating_stats[user_rating_stats[\"min\"] == user_rating_stats[\"max\"]].index\n",
    "rating_df = rating_df[~rating_df[\"user_id\"].isin(users_to_remove)]\n",
    "valid_data = valid_data[~valid_data[\"user_id\"].isin(users_to_remove)]\n",
    "print(f\"Deleted {len(users_to_remove)} users\")"
   ]
  },
  {
   "cell_type": "code",
   "execution_count": 15,
   "id": "9ba19aca",
   "metadata": {
    "execution": {
     "iopub.execute_input": "2025-04-05T22:03:51.275584Z",
     "iopub.status.busy": "2025-04-05T22:03:51.275171Z",
     "iopub.status.idle": "2025-04-05T22:03:51.293290Z",
     "shell.execute_reply": "2025-04-05T22:03:51.292107Z"
    },
    "id": "bunvDbrhlxOa",
    "outputId": "7ca85dda-b5b8-4311-9e1a-69d95943e597",
    "papermill": {
     "duration": 0.028447,
     "end_time": "2025-04-05T22:03:51.295340",
     "exception": false,
     "start_time": "2025-04-05T22:03:51.266893",
     "status": "completed"
    },
    "tags": []
   },
   "outputs": [
    {
     "name": "stdout",
     "output_type": "stream",
     "text": [
      "<class 'pandas.core.frame.DataFrame'>\n",
      "Index: 1328120 entries, 246 to 7813546\n",
      "Data columns (total 2 columns):\n",
      " #   Column    Non-Null Count    Dtype\n",
      "---  ------    --------------    -----\n",
      " 0   user_id   1328120 non-null  int64\n",
      " 1   anime_id  1328120 non-null  int64\n",
      "dtypes: int64(2)\n",
      "memory usage: 30.4 MB\n"
     ]
    }
   ],
   "source": [
    "valid_data.info()"
   ]
  },
  {
   "cell_type": "code",
   "execution_count": 16,
   "id": "fee7374c",
   "metadata": {
    "execution": {
     "iopub.execute_input": "2025-04-05T22:03:51.311887Z",
     "iopub.status.busy": "2025-04-05T22:03:51.311498Z",
     "iopub.status.idle": "2025-04-05T22:03:51.320315Z",
     "shell.execute_reply": "2025-04-05T22:03:51.319134Z"
    },
    "id": "TozX4lXWlx5H",
    "outputId": "4083bd3e-912d-4a7f-8264-75de22cf75f0",
    "papermill": {
     "duration": 0.018975,
     "end_time": "2025-04-05T22:03:51.322020",
     "exception": false,
     "start_time": "2025-04-05T22:03:51.303045",
     "status": "completed"
    },
    "tags": []
   },
   "outputs": [
    {
     "name": "stdout",
     "output_type": "stream",
     "text": [
      "<class 'pandas.core.frame.DataFrame'>\n",
      "Index: 6304679 entries, 156 to 7813612\n",
      "Data columns (total 3 columns):\n",
      " #   Column    Dtype\n",
      "---  ------    -----\n",
      " 0   user_id   int64\n",
      " 1   anime_id  int64\n",
      " 2   rating    int64\n",
      "dtypes: int64(3)\n",
      "memory usage: 192.4 MB\n"
     ]
    }
   ],
   "source": [
    "rating_df.info()"
   ]
  },
  {
   "cell_type": "markdown",
   "id": "2b1e46a7",
   "metadata": {
    "id": "bugk2ow90H0G",
    "papermill": {
     "duration": 0.007147,
     "end_time": "2025-04-05T22:03:51.336645",
     "exception": false,
     "start_time": "2025-04-05T22:03:51.329498",
     "status": "completed"
    },
    "tags": []
   },
   "source": [
    "#Colaborative Item Based Filtering"
   ]
  },
  {
   "cell_type": "markdown",
   "id": "3b00cad6",
   "metadata": {
    "id": "zuNigIGF0m9E",
    "papermill": {
     "duration": 0.007266,
     "end_time": "2025-04-05T22:03:51.351370",
     "exception": false,
     "start_time": "2025-04-05T22:03:51.344104",
     "status": "completed"
    },
    "tags": []
   },
   "source": [
    "## Train/test"
   ]
  },
  {
   "cell_type": "code",
   "execution_count": 17,
   "id": "d755d9ab",
   "metadata": {
    "execution": {
     "iopub.execute_input": "2025-04-05T22:03:51.367610Z",
     "iopub.status.busy": "2025-04-05T22:03:51.367204Z",
     "iopub.status.idle": "2025-04-05T22:03:57.245082Z",
     "shell.execute_reply": "2025-04-05T22:03:57.243842Z"
    },
    "id": "7BesdqWcl-0-",
    "papermill": {
     "duration": 5.888388,
     "end_time": "2025-04-05T22:03:57.247163",
     "exception": false,
     "start_time": "2025-04-05T22:03:51.358775",
     "status": "completed"
    },
    "tags": []
   },
   "outputs": [],
   "source": [
    "reader = Reader(rating_scale=(rating_df['rating'].min(), rating_df['rating'].max()))\n",
    "rating_data = Dataset.load_from_df(rating_df[['user_id', 'anime_id', 'rating']], reader)"
   ]
  },
  {
   "cell_type": "code",
   "execution_count": 18,
   "id": "be72709a",
   "metadata": {
    "execution": {
     "iopub.execute_input": "2025-04-05T22:03:57.264041Z",
     "iopub.status.busy": "2025-04-05T22:03:57.263692Z",
     "iopub.status.idle": "2025-04-05T22:04:14.748787Z",
     "shell.execute_reply": "2025-04-05T22:04:14.747823Z"
    },
    "id": "hQRyKJLUqrnT",
    "papermill": {
     "duration": 17.495662,
     "end_time": "2025-04-05T22:04:14.750708",
     "exception": false,
     "start_time": "2025-04-05T22:03:57.255046",
     "status": "completed"
    },
    "tags": []
   },
   "outputs": [],
   "source": [
    "trainset, testset = train_test_split(rating_data, test_size=0.2,random_state=42)"
   ]
  },
  {
   "cell_type": "code",
   "execution_count": 19,
   "id": "13ec6c68",
   "metadata": {
    "execution": {
     "iopub.execute_input": "2025-04-05T22:04:14.767481Z",
     "iopub.status.busy": "2025-04-05T22:04:14.767115Z",
     "iopub.status.idle": "2025-04-05T22:10:56.472478Z",
     "shell.execute_reply": "2025-04-05T22:10:56.471204Z"
    },
    "id": "WGvEWh-Eo29b",
    "outputId": "f0eaa877-2e40-41c2-9e7c-a8f51ab2e29f",
    "papermill": {
     "duration": 401.722592,
     "end_time": "2025-04-05T22:10:56.480999",
     "exception": false,
     "start_time": "2025-04-05T22:04:14.758407",
     "status": "completed"
    },
    "tags": []
   },
   "outputs": [
    {
     "name": "stdout",
     "output_type": "stream",
     "text": [
      "Computing the msd similarity matrix...\n",
      "Done computing similarity matrix.\n",
      "RMSE: 1.2133\n"
     ]
    }
   ],
   "source": [
    "algo_item_based = KNNBasic(sim_options={'user_based': False}, n_jobs=-1)\n",
    "algo_item_based.fit(trainset)\n",
    "predictions_item_based = algo_item_based.test(testset)\n",
    "a=accuracy.rmse(predictions_item_based)"
   ]
  },
  {
   "cell_type": "markdown",
   "id": "479801ea",
   "metadata": {
    "id": "6mg6NEQu0tME",
    "papermill": {
     "duration": 0.007543,
     "end_time": "2025-04-05T22:10:56.496493",
     "exception": false,
     "start_time": "2025-04-05T22:10:56.488950",
     "status": "completed"
    },
    "tags": []
   },
   "source": [
    "## Validation"
   ]
  },
  {
   "cell_type": "markdown",
   "id": "b1ef8530",
   "metadata": {
    "id": "8ZDokz264T-k",
    "papermill": {
     "duration": 0.007807,
     "end_time": "2025-04-05T22:10:56.512195",
     "exception": false,
     "start_time": "2025-04-05T22:10:56.504388",
     "status": "completed"
    },
    "tags": []
   },
   "source": [
    "Its not just mean fill of ratings for users that watched anime, but dont rate it - its predicted ratings for each user/anime."
   ]
  },
  {
   "cell_type": "code",
   "execution_count": 20,
   "id": "a895f33b",
   "metadata": {
    "execution": {
     "iopub.execute_input": "2025-04-05T22:10:56.529440Z",
     "iopub.status.busy": "2025-04-05T22:10:56.529035Z",
     "iopub.status.idle": "2025-04-05T22:12:18.174623Z",
     "shell.execute_reply": "2025-04-05T22:12:18.173380Z"
    },
    "id": "1Oo3aWw2o6Ws",
    "outputId": "8e40377b-2b19-4b88-a54c-4ab0ba55ccda",
    "papermill": {
     "duration": 81.663725,
     "end_time": "2025-04-05T22:12:18.183913",
     "exception": false,
     "start_time": "2025-04-05T22:10:56.520188",
     "status": "completed"
    },
    "tags": []
   },
   "outputs": [
    {
     "name": "stdout",
     "output_type": "stream",
     "text": [
      "     user_id  anime_id    rating\n",
      "246        3     30276  8.591805\n",
      "247        3     30503  8.462386\n",
      "250        4         6  7.798716\n",
      "251        4        72  7.798716\n",
      "252        4       121  7.798716\n"
     ]
    }
   ],
   "source": [
    "predictions = [algo_item_based.predict(uid, iid) for uid, iid in zip(valid_data['user_id'], valid_data['anime_id'])]\n",
    "valid_data['rating'] = [pred.est for pred in predictions]\n",
    "print(valid_data.head())"
   ]
  },
  {
   "cell_type": "markdown",
   "id": "dfa3bd52",
   "metadata": {
    "id": "0A-zF5mYz9bF",
    "papermill": {
     "duration": 0.007509,
     "end_time": "2025-04-05T22:12:18.199372",
     "exception": false,
     "start_time": "2025-04-05T22:12:18.191863",
     "status": "completed"
    },
    "tags": []
   },
   "source": [
    "# Content Based Filtering"
   ]
  },
  {
   "cell_type": "markdown",
   "id": "497d130f",
   "metadata": {
    "id": "dz_4MisA8W8T",
    "papermill": {
     "duration": 0.007612,
     "end_time": "2025-04-05T22:12:18.214794",
     "exception": false,
     "start_time": "2025-04-05T22:12:18.207182",
     "status": "completed"
    },
    "tags": []
   },
   "source": [
    "Filtering based only on genre is enough for this task."
   ]
  },
  {
   "cell_type": "code",
   "execution_count": 21,
   "id": "30b7ca71",
   "metadata": {
    "execution": {
     "iopub.execute_input": "2025-04-05T22:12:18.231744Z",
     "iopub.status.busy": "2025-04-05T22:12:18.231313Z",
     "iopub.status.idle": "2025-04-05T22:12:21.328309Z",
     "shell.execute_reply": "2025-04-05T22:12:21.327163Z"
    },
    "id": "ljLqDmhf1XSl",
    "papermill": {
     "duration": 3.107766,
     "end_time": "2025-04-05T22:12:21.330342",
     "exception": false,
     "start_time": "2025-04-05T22:12:18.222576",
     "status": "completed"
    },
    "tags": []
   },
   "outputs": [],
   "source": [
    "tfidf = TfidfVectorizer(stop_words='english')\n",
    "tfidf_matrix = tfidf.fit_transform(df['genre'])\n",
    "cosine_sim = linear_kernel(tfidf_matrix, tfidf_matrix)"
   ]
  },
  {
   "cell_type": "markdown",
   "id": "41cc0efa",
   "metadata": {
    "id": "O0lYhbcb3dPn",
    "papermill": {
     "duration": 0.007724,
     "end_time": "2025-04-05T22:12:21.346219",
     "exception": false,
     "start_time": "2025-04-05T22:12:21.338495",
     "status": "completed"
    },
    "tags": []
   },
   "source": [
    "# Hybrid Filtering"
   ]
  },
  {
   "cell_type": "markdown",
   "id": "f2d73a74",
   "metadata": {
    "id": "-999zyi78fh4",
    "papermill": {
     "duration": 0.00771,
     "end_time": "2025-04-05T22:12:21.361809",
     "exception": false,
     "start_time": "2025-04-05T22:12:21.354099",
     "status": "completed"
    },
    "tags": []
   },
   "source": [
    "Small input check for input errors"
   ]
  },
  {
   "cell_type": "code",
   "execution_count": 22,
   "id": "7945ea46",
   "metadata": {
    "execution": {
     "iopub.execute_input": "2025-04-05T22:12:21.379128Z",
     "iopub.status.busy": "2025-04-05T22:12:21.378790Z",
     "iopub.status.idle": "2025-04-05T22:12:21.384501Z",
     "shell.execute_reply": "2025-04-05T22:12:21.383490Z"
    },
    "id": "9HV8zledDED9",
    "papermill": {
     "duration": 0.016597,
     "end_time": "2025-04-05T22:12:21.386306",
     "exception": false,
     "start_time": "2025-04-05T22:12:21.369709",
     "status": "completed"
    },
    "tags": []
   },
   "outputs": [],
   "source": [
    "def info_check(user_id, movie_title, n_outputs, filtering_type='hybrid'):\n",
    "    fiters=['collab','content','hybrid']\n",
    "    if user_id not in rating_df['user_id'].values:\n",
    "      print(f\"{user_id} is a invalid user id\")\n",
    "      return 0\n",
    "    elif movie_title not in df['name'].values:\n",
    "      print(f\"{movie_title} is a invalid name\")\n",
    "      return 0\n",
    "    elif filtering_type not in fiters:\n",
    "      print(f\"{filtering_type} is not a filtering type (try collab, content, hybrid) \")\n",
    "      return 0\n",
    "    elif n_outputs > len(df['anime_id']):\n",
    "      print(f\"{n_outputs} is bigger than number of titles({len(df['anime_id'])} )\")\n",
    "      return 0"
   ]
  },
  {
   "cell_type": "markdown",
   "id": "49089883",
   "metadata": {
    "id": "N5nulQ2qDDqR",
    "papermill": {
     "duration": 0.007604,
     "end_time": "2025-04-05T22:12:21.402039",
     "exception": false,
     "start_time": "2025-04-05T22:12:21.394435",
     "status": "completed"
    },
    "tags": []
   },
   "source": [
    "There is 3 functions. hybrid_filtering is main that used 2 anothers inside, but they can be used throw it. Maybe it was more correctly to do fourth and do filtering in it, but i think it's good as it is. In the comments i leave you can read more detailed function of them."
   ]
  },
  {
   "cell_type": "code",
   "execution_count": 23,
   "id": "9e1121a5",
   "metadata": {
    "execution": {
     "iopub.execute_input": "2025-04-05T22:12:21.419039Z",
     "iopub.status.busy": "2025-04-05T22:12:21.418697Z",
     "iopub.status.idle": "2025-04-05T22:12:21.430441Z",
     "shell.execute_reply": "2025-04-05T22:12:21.429458Z"
    },
    "id": "ka_ucXG238qZ",
    "papermill": {
     "duration": 0.022804,
     "end_time": "2025-04-05T22:12:21.432577",
     "exception": false,
     "start_time": "2025-04-05T22:12:21.409773",
     "status": "completed"
    },
    "tags": []
   },
   "outputs": [],
   "source": [
    "def collab_filtering(user_id):\n",
    "    '''\n",
    "    Colab filtering, all you need is to put user_id in it, and it will return list in format [(anime_id, score)]\n",
    "    Returns unsorted data.\n",
    "    '''\n",
    "    collab_recs = []\n",
    "    i=0\n",
    "\n",
    "    for iid in df['anime_id']:\n",
    "      pred = algo_item_based.predict(user_id, iid).est\n",
    "      collab_recs.append((i, pred))\n",
    "      i+=1\n",
    "    collab_recs = [(df.iloc[i]['anime_id'], score) for i, score in collab_recs]\n",
    "\n",
    "    return collab_recs\n",
    "\n",
    "\n",
    "def content_filtering(user_id, movie_title):\n",
    "    '''\n",
    "    Content filtering, it need user_id and movie_title - name from df/data of the movie/anime.\n",
    "    It returns list in format [(anime_id, score)]\n",
    "    Returns unsorted data.\n",
    "    '''\n",
    "    idx = df[df['name'] == movie_title].index[0]\n",
    "    sim_scores = list(enumerate(cosine_sim[idx]))\n",
    "\n",
    "    # To match metrics we make ratings from 0 to 1, from 1 to 10\n",
    "    for i in range(len(sim_scores)):\n",
    "        sim_scores[i] = (sim_scores[i][0], sim_scores[i][1] * 10)\n",
    "\n",
    "    content_recs = [(df.iloc[i]['anime_id'], score) for i, score in sim_scores]\n",
    "\n",
    "    return content_recs\n",
    "\n",
    "\n",
    "def hybrid_filtering(user_id, movie_title, filtering_type='hybrid', n_outputs=5, w_col=0.8, w_cont=0.2):\n",
    "\n",
    "    '''\n",
    "    Hybrid filtering, using colab and content filtering in it.\n",
    "    As the main function it used needed for child functions info user_id, movie_title.\n",
    "    Also you can change how many titles gets in output and weights of colab and content filtering.\n",
    "    Returns sorted list in format [(anime_id, name, score(max))...(anime_id, name, score(min))]\n",
    "    '''\n",
    "    if info_check(user_id, movie_title,n_outputs,filtering_type)==0:\n",
    "      return []\n",
    "\n",
    "    # getting collab recommendation\n",
    "    collab_recs=collab_filtering(user_id)\n",
    "\n",
    "    # getting content recommendation\n",
    "    content_recs=content_filtering(user_id, movie_title)\n",
    "\n",
    "    hybrid_recs = []\n",
    "    for i in range(min(len(collab_recs), len(content_recs))):\n",
    "        anime_id = collab_recs[i][0]\n",
    "        hybrid_score = collab_recs[i][1] * w_col + content_recs[i][1] * w_cont\n",
    "        hybrid_recs.append((anime_id, hybrid_score))\n",
    "\n",
    "    if filtering_type=='hybrid':\n",
    "      filtering_data=hybrid_recs\n",
    "    elif filtering_type=='collab':\n",
    "      filtering_data=collab_recs\n",
    "    else:\n",
    "      filtering_data=content_recs\n",
    "\n",
    "    # del input anime from list\n",
    "    input_id = df[df['name'] == movie_title]['anime_id'].values[0]\n",
    "    filtering_data = [title_id for title_id in filtering_data if title_id[0] != input_id]\n",
    "\n",
    "    filtering_data.sort(key=lambda x: x[1], reverse=True)\n",
    "\n",
    "    # changing id to names and taking only first sorted n_outputs from filtered data\n",
    "    recommendations = [(anime_id, df[df['anime_id'] == anime_id]['name'].values[0], score) for anime_id, score in filtering_data[:n_outputs]]\n",
    "\n",
    "    # little output for easer use\n",
    "    print(f\"{n_outputs} {filtering_type} recommendations for user id {user_id} and anime '{movie_title}':\")\n",
    "    for anime_id, name, score in recommendations:\n",
    "        print(f\"- {name} (score: {score:.2f})\")\n",
    "\n",
    "    print('---'*20)\n",
    "\n",
    "    return recommendations"
   ]
  },
  {
   "cell_type": "markdown",
   "id": "55aa113a",
   "metadata": {
    "id": "j7B8SxisvKZt",
    "papermill": {
     "duration": 0.00827,
     "end_time": "2025-04-05T22:12:21.449897",
     "exception": false,
     "start_time": "2025-04-05T22:12:21.441627",
     "status": "completed"
    },
    "tags": []
   },
   "source": [
    "Now we can test the function under different circumstances, changing inputs."
   ]
  },
  {
   "cell_type": "code",
   "execution_count": 24,
   "id": "516a556a",
   "metadata": {
    "execution": {
     "iopub.execute_input": "2025-04-05T22:12:21.467625Z",
     "iopub.status.busy": "2025-04-05T22:12:21.467212Z",
     "iopub.status.idle": "2025-04-05T22:12:49.044229Z",
     "shell.execute_reply": "2025-04-05T22:12:49.043153Z"
    },
    "id": "0w0SsNwRrFiW",
    "outputId": "311448a1-5ed9-4463-f4b4-3155a139d4ce",
    "papermill": {
     "duration": 27.587803,
     "end_time": "2025-04-05T22:12:49.045894",
     "exception": false,
     "start_time": "2025-04-05T22:12:21.458091",
     "status": "completed"
    },
    "tags": []
   },
   "outputs": [
    {
     "name": "stdout",
     "output_type": "stream",
     "text": [
      "5 hybrid recommendations for user id 7 and anime 'One Punch Man':\n",
      "- One Punch Man 2 (score: 8.24)\n",
      "- Kawasaki Frontale x Tentai Senshi Sunred (score: 8.04)\n",
      "- Hulu Xiongdi (score: 8.00)\n",
      "- One Punch Man: Road to Hero (score: 7.94)\n",
      "- Kawasaki Frontale x Tentai Senshi Sunred 2nd Season (score: 7.94)\n",
      "------------------------------------------------------------\n",
      "5 hybrid recommendations for user id 5 and anime 'One Punch Man':\n",
      "- One Punch Man 2 (score: 8.24)\n",
      "- Himitsukessha Taka no Tsume Countdown (score: 7.71)\n",
      "- Himitsukessha Taka no Tsume DO (score: 7.71)\n",
      "- Himitsukessha Taka no Tsume EX (score: 7.71)\n",
      "- Himitsukessha Taka no Tsume GT (score: 7.71)\n",
      "------------------------------------------------------------\n",
      "3 collab recommendations for user id 3 and anime 'One Punch Man':\n",
      "- Jungle wa Itsumo Hare nochi Guu: Eizou Tokuten - Maboroshi no Pilot Film (score: 10.00)\n",
      "- 15 Sonyeon Uju Pyoryugi (score: 10.00)\n",
      "- Sore Ike! Anpanman: Baikinman no Gyakushuu (score: 10.00)\n",
      "------------------------------------------------------------\n",
      "2 is a invalid user id\n",
      "1 content recommendations for user id 42635 and anime 'Toushindai My Lover: Minami tai Mecha-Minami':\n",
      "- Oni Chichi: Re-born (score: 10.00)\n",
      "------------------------------------------------------------\n"
     ]
    }
   ],
   "source": [
    "user_id = [7, 5, 3, 2, 42635]\n",
    "movie_title = ['One Punch Man', 'One Punch Man', 'One Punch Man','Kimi no Na wa.','Toushindai My Lover: Minami tai Mecha-Minami']\n",
    "filtering_type=['hybrid','hybrid','collab','content','content']\n",
    "n_outputs=[5,5,3,5,1]\n",
    "\n",
    "for i in range(len(user_id)):\n",
    "    hybrid_filtering(user_id[i], movie_title[i], filtering_type[i], n_outputs[i])"
   ]
  },
  {
   "cell_type": "markdown",
   "id": "d2edefd5",
   "metadata": {
    "id": "BR-j1oEt-9_B",
    "papermill": {
     "duration": 0.008539,
     "end_time": "2025-04-05T22:12:49.062881",
     "exception": false,
     "start_time": "2025-04-05T22:12:49.054342",
     "status": "completed"
    },
    "tags": []
   },
   "source": [
    "Also we can use it without so many incoming info"
   ]
  },
  {
   "cell_type": "code",
   "execution_count": 25,
   "id": "db6afad8",
   "metadata": {
    "execution": {
     "iopub.execute_input": "2025-04-05T22:12:49.080881Z",
     "iopub.status.busy": "2025-04-05T22:12:49.080491Z",
     "iopub.status.idle": "2025-04-05T22:12:52.681859Z",
     "shell.execute_reply": "2025-04-05T22:12:52.680706Z"
    },
    "id": "nH9vh4Ck28wR",
    "outputId": "2fed4fea-d721-4374-b36a-f1cf640ee6c0",
    "papermill": {
     "duration": 3.612161,
     "end_time": "2025-04-05T22:12:52.683658",
     "exception": false,
     "start_time": "2025-04-05T22:12:49.071497",
     "status": "completed"
    },
    "tags": []
   },
   "outputs": [
    {
     "name": "stdout",
     "output_type": "stream",
     "text": [
      "5 hybrid recommendations for user id 123 and anime 'One Punch Man 2':\n",
      "- One Punch Man (score: 9.09)\n",
      "- Uchuu Kyoudai: Number Zero (score: 8.45)\n",
      "- Code Geass: Hangyaku no Lelouch R2 (score: 8.33)\n",
      "- Hunter x Hunter (2011) (score: 8.29)\n",
      "- Tengen Toppa Gurren Lagann Movie: Lagann-hen (score: 8.28)\n",
      "------------------------------------------------------------\n"
     ]
    }
   ],
   "source": [
    "filtered_recs = hybrid_filtering(123, 'One Punch Man 2')"
   ]
  }
 ],
 "metadata": {
  "colab": {
   "provenance": []
  },
  "kaggle": {
   "accelerator": "none",
   "dataSources": [
    {
     "datasetId": 571,
     "sourceId": 1094,
     "sourceType": "datasetVersion"
    }
   ],
   "isGpuEnabled": false,
   "isInternetEnabled": true,
   "language": "python",
   "sourceType": "notebook"
  },
  "kernelspec": {
   "display_name": "Python 3",
   "name": "python3"
  },
  "language_info": {
   "codemirror_mode": {
    "name": "ipython",
    "version": 3
   },
   "file_extension": ".py",
   "mimetype": "text/x-python",
   "name": "python",
   "nbconvert_exporter": "python",
   "pygments_lexer": "ipython3",
   "version": "3.10.12"
  },
  "papermill": {
   "default_parameters": {},
   "duration": 555.666694,
   "end_time": "2025-04-05T22:12:55.814174",
   "environment_variables": {},
   "exception": null,
   "input_path": "__notebook__.ipynb",
   "output_path": "__notebook__.ipynb",
   "parameters": {},
   "start_time": "2025-04-05T22:03:40.147480",
   "version": "2.6.0"
  }
 },
 "nbformat": 4,
 "nbformat_minor": 5
}
